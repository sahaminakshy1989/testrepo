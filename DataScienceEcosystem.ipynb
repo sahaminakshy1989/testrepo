{
 "cells": [
  {
   "cell_type": "markdown",
   "id": "3cefa3ce-25d4-4aa9-afcd-f49140c90194",
   "metadata": {},
   "source": [
    "# Data Science Tools and Ecosystem"
   ]
  },
  {
   "cell_type": "markdown",
   "id": "6a6c04f4-d0ff-457c-b62a-f030b59f0ccb",
   "metadata": {},
   "source": [
    "In this notebook, Data Science Tools and Ecosystem are summarized."
   ]
  },
  {
   "cell_type": "markdown",
   "id": "65fae476-2521-4161-a455-29c3ece35000",
   "metadata": {},
   "source": [
    "Some of the popular languages that Data Scientists use are:\n",
    "\n",
    "1.Python\n",
    "2.R\n",
    "3.SQL"
   ]
  },
  {
   "cell_type": "markdown",
   "id": "686825a2-fe29-46ee-96b3-b00f890eb7e3",
   "metadata": {},
   "source": [
    "Some of the commonly used libraries used by Data Scientists include:\n",
    "\n",
    "1.Pandas\n",
    "2.NumPy\n",
    "3.Matplotlib\n"
   ]
  },
  {
   "cell_type": "markdown",
   "id": "679f8b2e-76ac-4f30-b37a-34b2fe64da09",
   "metadata": {},
   "source": [
    "| Data Science Tools |\n",
    "|--------------------|\n",
    "| MongoDB            |\n",
    "| Apache SparkSQL    |\n",
    "| TensorFlow         |"
   ]
  },
  {
   "cell_type": "markdown",
   "id": "7222c966-3eb7-433b-a3cc-e848fb532ca8",
   "metadata": {},
   "source": [
    "### Below are a few examples of evaluating arithmetic expressions in Python"
   ]
  },
  {
   "cell_type": "code",
   "execution_count": 4,
   "id": "1479e2bc-2a17-4d41-8c09-e1c9e5176e05",
   "metadata": {},
   "outputs": [
    {
     "data": {
      "text/plain": [
       "17"
      ]
     },
     "execution_count": 4,
     "metadata": {},
     "output_type": "execute_result"
    }
   ],
   "source": [
    "## This a simple arithmetic expression to mutiply then add integers\n",
    "(3*4)+5\n"
   ]
  },
  {
   "cell_type": "code",
   "execution_count": 5,
   "id": "78949d22-fd83-43d3-9456-6a50b2feab1a",
   "metadata": {},
   "outputs": [
    {
     "data": {
      "text/plain": [
       "3.3333333333333335"
      ]
     },
     "execution_count": 5,
     "metadata": {},
     "output_type": "execute_result"
    }
   ],
   "source": [
    "## This will convert 200 minutes to hours by diving by 60\n",
    "200/60"
   ]
  },
  {
   "cell_type": "markdown",
   "id": "a3e1b6ed-b3c1-4381-9a8f-b56498490f6a",
   "metadata": {},
   "source": [
    "Objectives:\n",
    "\n",
    "- Python\n",
    "- R\n",
    "- SQL"
   ]
  },
  {
   "cell_type": "markdown",
   "id": "87f720f2-f185-4526-bf97-1040930172de",
   "metadata": {},
   "source": [
    "## Author\n",
    "Minakshy Saha"
   ]
  },
  {
   "cell_type": "code",
   "execution_count": null,
   "id": "bf7ded63-857e-4af3-a3b3-f9fffd8bbb35",
   "metadata": {},
   "outputs": [],
   "source": []
  }
 ],
 "metadata": {
  "kernelspec": {
   "display_name": "Python 3 (ipykernel)",
   "language": "python",
   "name": "python3"
  },
  "language_info": {
   "codemirror_mode": {
    "name": "ipython",
    "version": 3
   },
   "file_extension": ".py",
   "mimetype": "text/x-python",
   "name": "python",
   "nbconvert_exporter": "python",
   "pygments_lexer": "ipython3",
   "version": "3.11.9"
  }
 },
 "nbformat": 4,
 "nbformat_minor": 5
}
